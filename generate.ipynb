{
 "cells": [
  {
   "cell_type": "code",
   "execution_count": 34,
   "metadata": {},
   "outputs": [],
   "source": [
    "import os\n",
    "\n",
    "def load_typ_file(rep_dir):\n",
    "    typ_file_path = os.path.join(rep_dir, 'template.typ')\n",
    "    with open(typ_file_path, 'r') as file:\n",
    "        typ_content = file.read()\n",
    "    return typ_content\n",
    "\n",
    "def read_dev_files(dev_dir):\n",
    "    file_data = {}\n",
    "    for subdir, _, files in os.walk(dev_dir):\n",
    "        for file_name in files:\n",
    "            if file_name.endswith(('.cpp', '.h', '.hpp')):\n",
    "                file_path = os.path.join(subdir, file_name)\n",
    "                with open(file_path, 'r') as file:\n",
    "                    content = file.read()\n",
    "                file_data[file_path] = content\n",
    "    return file_data\n"
   ]
  },
  {
   "cell_type": "code",
   "execution_count": 35,
   "metadata": {},
   "outputs": [],
   "source": [
    "def read_dev_files(dev_dir):\n",
    "    all_data = {}\n",
    "    for subdir, _, files in os.walk(dev_dir):\n",
    "        subdir_data = {}\n",
    "        for file_name in files:\n",
    "            if file_name.endswith(('.cpp', '.h', '.hpp')):\n",
    "                file_path = os.path.join(subdir, file_name)\n",
    "                with open(file_path, 'r') as file:\n",
    "                    content = file.read()\n",
    "                subdir_data[file_name] = content\n",
    "        if subdir_data:\n",
    "            all_data[subdir] = subdir_data\n",
    "    return all_data"
   ]
  },
  {
   "cell_type": "code",
   "execution_count": 43,
   "metadata": {},
   "outputs": [],
   "source": [
    "import re\n",
    "\n",
    "def split_text(text):\n",
    "    pattern = r'/\\*.*\\*/'\n",
    "    matches = re.findall(pattern, text, re.DOTALL)\n",
    "    \n",
    "    if matches:\n",
    "        last_match = matches[-1]\n",
    "        remaining_text = text.replace(last_match, '', 1)\n",
    "        last_match = last_match.replace(\"/*\",\"\")\n",
    "        last_match = last_match.replace(\"*/\",\"\")\n",
    "        return remaining_text, last_match\n",
    "    else:\n",
    "        return text,\"\""
   ]
  },
  {
   "cell_type": "code",
   "execution_count": 37,
   "metadata": {},
   "outputs": [
    {
     "data": {
      "text/plain": [
       "{1: '基于双向链表的`linkedList`',\n",
       " 2: '基于增长数组的`vector`',\n",
       " 3: '基于块状数组的`dataBlock`',\n",
       " 4: '实现基于循环增长数组的`deque`',\n",
       " 5: '基于`vector`实现`stack`',\n",
       " 10: '基于R-BTree实现`set`',\n",
       " 11: '基于R-BTree实现`map`',\n",
       " 15: '基于Heap实现`priority_queue`',\n",
       " 6: '树上dfs（基础信息）',\n",
       " 7: '图上bfs（最短路）',\n",
       " 8: '二叉树三序遍历',\n",
       " 9: 'R-BTree的基本实现',\n",
       " 12: '字典树`Trie`',\n",
       " 13: '线段树`segTree`',\n",
       " 14: '堆`Heap`',\n",
       " 16: '霍夫曼树`Huffman-tree`',\n",
       " 17: '算数表达式求值（栈）',\n",
       " 18: '括号匹配（栈）',\n",
       " 19: '高精度计算'}"
      ]
     },
     "execution_count": 37,
     "metadata": {},
     "output_type": "execute_result"
    }
   ],
   "source": [
    "s = '''      rowspanx(8)[STL风格的\\ 泛型的\\ 基础数据结构\\ 容器实现],[1],[基于双向链表的`linkedList`],\n",
    "      (),[2],[基于增长数组的`vector`],\n",
    "      (),[3],[基于块状数组的`dataBlock`],\n",
    "      (),[4],[实现基于循环增长数组的`deque`],\n",
    "      (),[5],[基于`vector`实现`stack`],\n",
    "      (),[10],[基于R-BTree实现`set`],\n",
    "      (),[11],[基于R-BTree实现`map`],\n",
    "      (),[15],[基于Heap实现`priority_queue`],\n",
    "      rowspanx(4)[基础树/图结构],[6],[树上dfs（基础信息）],\n",
    "      (),[7],[图上bfs（最短路）],\n",
    "      (),[8],[二叉树三序遍历],\n",
    "      (),[9],[R-BTree的基本实现],\n",
    "      rowspanx(4)[特殊结构\\ 及其应用],[12],[字典树`Trie`],\n",
    "      (),[13],[线段树`segTree`],\n",
    "      (),[14],[堆`Heap`],\n",
    "      (),[16],[霍夫曼树`Huffman-tree`],\n",
    "      rowspanx(3)[在算法中应用],[17],[算数表达式求值（栈）],\n",
    "      (),[18],[括号匹配（栈）],\n",
    "      (),[19],[高精度计算], '''\n",
    "t = s.split(\"\\n\");\n",
    "m = {};\n",
    "for x in t:\n",
    "    text = \"rowspanx(8)[STL风格的\\\\ 泛型的\\\\ 基础数据结构\\\\ 容器实现],[1],[基于双向链表的`linkedList`]\"\n",
    "    \n",
    "    # 定义正则表达式模式\n",
    "    pattern = re.compile(r'\\[([^\\]]+)\\]')\n",
    "    matches = pattern.findall(x)\n",
    "    m[int(matches[-2])] = matches[-1];\n",
    "#     print(matches)\n",
    "m"
   ]
  },
  {
   "cell_type": "code",
   "execution_count": 51,
   "metadata": {},
   "outputs": [
    {
     "name": "stdout",
     "output_type": "stream",
     "text": [
      "File: Dev\\01\n",
      "File: Dev\\02\n",
      "File: Dev\\03\n",
      "File: Dev\\04\n",
      "File: Dev\\05\n",
      "File: Dev\\06\n",
      "File: Dev\\07\n",
      "File: Dev\\08\n",
      "File: Dev\\10\n",
      "File: Dev\\11\n",
      "File: Dev\\12\n",
      "File: Dev\\13\n",
      "File: Dev\\14\n",
      "File: Dev\\15\n",
      "File: Dev\\16\n",
      "File: Dev\\17\n",
      "File: Dev\\18\n",
      "File: Dev\\19\n"
     ]
    }
   ],
   "source": [
    "rep_dir = 'Rep'\n",
    "dev_dir = 'Dev'\n",
    "\n",
    "# Load Rep/0.typ file\n",
    "template = load_typ_file(rep_dir)\n",
    "# print(f\"Loaded 0.typ content:\\n{typ_content}\")\n",
    "\n",
    "# Read files in Dev subdirectories\n",
    "file_data = read_dev_files(dev_dir)\n",
    "\n",
    "# Print the loaded file names and content (for demonstration purposes)\n",
    "for file_path, sub_paths in file_data.items():\n",
    "    print(f\"File: {file_path}\")\n",
    "    MAINCODE = \"\"\n",
    "    COMMENTS = \"\"\n",
    "    for sub_path,text in sub_paths.items():\n",
    "        code,comment = split_text(text);\n",
    "        MAINCODE += \"== `\" + sub_path + \"`\\n\"\n",
    "        MAINCODE += \"#sourcecode[```cpp\\n\" + code + \"\\n```]\\n\"\n",
    "        if len(comment) > 0 :\n",
    "            COMMENTS += \"```\\n\" + comment + \"\\n```\\n\"\n",
    "    subdir_name = os.path.basename(file_path);\n",
    "    nt = template\n",
    "    nt = nt.replace(\"MAINCODE\",MAINCODE);\n",
    "    nt = nt.replace(\"TESTCASES\",COMMENTS);\n",
    "    nt = nt.replace(\"maintitle\",m[int(subdir_name)])\n",
    "    nt = nt.replace(\"INDEXS\",subdir_name);\n",
    "    # print(m[int(subdir_name)])\n",
    "    if(int(subdir_name) <= 18):\n",
    "        continue\n",
    "    rep_file_path = os.path.join(rep_dir, f\"{subdir_name}.typ\")\n",
    "    f = open(rep_file_path,'w')\n",
    "    f.write(nt)\n",
    "    # print(rep_file_path);\n",
    "    # print(f\"Content:\\n{content}\")\n",
    "    # print('-' * 80)\n"
   ]
  },
  {
   "cell_type": "code",
   "execution_count": null,
   "metadata": {},
   "outputs": [],
   "source": []
  }
 ],
 "metadata": {
  "kernelspec": {
   "display_name": "Python 3",
   "language": "python",
   "name": "python3"
  },
  "language_info": {
   "codemirror_mode": {
    "name": "ipython",
    "version": 3
   },
   "file_extension": ".py",
   "mimetype": "text/x-python",
   "name": "python",
   "nbconvert_exporter": "python",
   "pygments_lexer": "ipython3",
   "version": "3.11.5"
  }
 },
 "nbformat": 4,
 "nbformat_minor": 2
}
